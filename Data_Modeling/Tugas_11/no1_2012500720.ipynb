{
 "cells": [
  {
   "cell_type": "code",
   "execution_count": 25,
   "id": "61057bad",
   "metadata": {},
   "outputs": [],
   "source": [
    "import pandas as pd"
   ]
  },
  {
   "cell_type": "code",
   "execution_count": 26,
   "id": "246ac5f5",
   "metadata": {},
   "outputs": [
    {
     "name": "stdout",
     "output_type": "stream",
     "text": [
      "Nim  : 20125000720\n",
      "Nama : Hafiizh Taufiqul Hakim\n"
     ]
    }
   ],
   "source": [
    "print(\"Nim  : 20125000720\")\n",
    "print(\"Nama : Hafiizh Taufiqul Hakim\")"
   ]
  },
  {
   "cell_type": "code",
   "execution_count": 27,
   "id": "3e18e8a9",
   "metadata": {},
   "outputs": [
    {
     "name": "stdout",
     "output_type": "stream",
     "text": [
      "1. Mencetak keseluruhan data Penjualan\n",
      "      OrderDate   Region      Rep     Item  Units  Unit Price\n",
      "0    4-Jul-2014     East  Richard  Pen Set     62        4.99\n",
      "1   12-Jul-2014     East     Nick   Binder     29        1.99\n",
      "2   21-Jul-2014  Central   Morgan  Pen Set     55       12.49\n",
      "3   29-Jul-2014     East    Susan   Binder     81       19.99\n",
      "4    7-Aug-2014  Central  Matthew  Pen Set     42       23.95\n",
      "5   15-Aug-2014     East  Richard   Pencil     35        4.99\n",
      "6   24-Aug-2014     West    James     Desk      3      275.00\n",
      "7    1-Sep-2014  Central    Smith     Desk      2      125.00\n",
      "8   10-Sep-2014  Central     Bill   Pencil      7        1.29\n",
      "9   18-Sep-2014     East  Richard  Pen Set     16       15.99\n",
      "10  27-Sep-2014     West    James      Pen     76        1.99\n",
      "11   5-Oct-2014  Central   Morgan   Binder     28        8.99\n",
      "12  14-Oct-2014     West   Thomas   Binder     57       19.99\n",
      "13  22-Oct-2014     East  Richard      Pen     64        8.99\n",
      "14  31-Oct-2014  Central   Rachel   Pencil     14        1.29\n",
      "15   8-Nov-2014     East    Susan      Pen     15       19.99\n",
      "16  17-Nov-2014  Central     Alex   Binder     11        4.99\n",
      "17  25-Nov-2014  Central  Matthew  Pen Set     96        4.99\n",
      "18   4-Dec-2014  Central     Alex   Binder     94       19.99\n",
      "19  12-Dec-2014  Central    Smith   Pencil     67        1.29\n",
      "20  21-Dec-2014  Central   Rachel   Binder     28        4.99\n",
      "21  29-Dec-2014     East    Susan  Pen Set     74       15.99\n",
      "22   6-Jan-2015     East  Richard   Pencil     95        1.99\n",
      "23  15-Jan-2015  Central     Bill   Binder     46        8.99\n",
      "24  23-Jan-2015  Central  Matthew   Binder     50       19.99\n",
      "25   1-Feb-2015  Central    Smith   Binder     87       15.00\n",
      "26   9-Feb-2015  Central     Alex   Pencil     36        4.99\n",
      "27  18-Feb-2015     East  Richard   Binder      4        4.99\n",
      "28  26-Feb-2015  Central     Bill      Pen     27       19.99\n",
      "29   7-Mar-2015     West    James   Binder      7       19.99\n",
      "30  15-Mar-2015     West    James   Pencil     56        2.99\n",
      "31  24-Mar-2015  Central     Alex  Pen Set     50        4.99\n",
      "32   1-Apr-2015     East  Richard   Binder     60        4.99\n",
      "33  10-Apr-2015  Central   Rachel   Pencil     66        1.99\n",
      "34  18-Apr-2015  Central   Rachel   Pencil     75        1.99\n",
      "35  27-Apr-2015     East     Nick      Pen     96        4.99\n",
      "36   5-May-2015  Central     Alex   Pencil     90        4.99\n",
      "37  14-May-2015  Central     Bill   Pencil     53        1.29\n",
      "38  22-May-2015     West   Thomas   Pencil     32        1.99\n",
      "39  31-May-2015  Central     Bill   Binder     80        8.99\n",
      "40   8-Jun-2015     East  Richard   Binder     60        8.99\n",
      "41  17-Jun-2015  Central  Matthew     Desk      5      125.00\n",
      "42  25-Jun-2015  Central   Morgan   Pencil     90        4.99\n"
     ]
    }
   ],
   "source": [
    "print(\"1. Mencetak keseluruhan data Penjualan\")\n",
    "df = pd.read_csv('officesuppliesnew.csv')\n",
    "print(df)\n"
   ]
  },
  {
   "cell_type": "code",
   "execution_count": 28,
   "id": "e31f0b9d",
   "metadata": {},
   "outputs": [
    {
     "name": "stdout",
     "output_type": "stream",
     "text": [
      "2. Menampilkan informasi data\n",
      "<class 'pandas.core.frame.DataFrame'>\n",
      "RangeIndex: 43 entries, 0 to 42\n",
      "Data columns (total 6 columns):\n",
      " #   Column      Non-Null Count  Dtype  \n",
      "---  ------      --------------  -----  \n",
      " 0   OrderDate   43 non-null     object \n",
      " 1   Region      43 non-null     object \n",
      " 2   Rep         43 non-null     object \n",
      " 3   Item        43 non-null     object \n",
      " 4   Units       43 non-null     int64  \n",
      " 5   Unit Price  43 non-null     float64\n",
      "dtypes: float64(1), int64(1), object(4)\n",
      "memory usage: 2.1+ KB\n"
     ]
    }
   ],
   "source": [
    "print(\"2. Menampilkan informasi data\")\n",
    "df.info()"
   ]
  },
  {
   "cell_type": "code",
   "execution_count": 29,
   "id": "9ee0597c",
   "metadata": {},
   "outputs": [
    {
     "name": "stdout",
     "output_type": "stream",
     "text": [
      "3. Menampilkan 10 Baris Pertama\n"
     ]
    },
    {
     "data": {
      "text/html": [
       "<div>\n",
       "<style scoped>\n",
       "    .dataframe tbody tr th:only-of-type {\n",
       "        vertical-align: middle;\n",
       "    }\n",
       "\n",
       "    .dataframe tbody tr th {\n",
       "        vertical-align: top;\n",
       "    }\n",
       "\n",
       "    .dataframe thead th {\n",
       "        text-align: right;\n",
       "    }\n",
       "</style>\n",
       "<table border=\"1\" class=\"dataframe\">\n",
       "  <thead>\n",
       "    <tr style=\"text-align: right;\">\n",
       "      <th></th>\n",
       "      <th>OrderDate</th>\n",
       "      <th>Region</th>\n",
       "      <th>Rep</th>\n",
       "      <th>Item</th>\n",
       "      <th>Units</th>\n",
       "      <th>Unit Price</th>\n",
       "    </tr>\n",
       "  </thead>\n",
       "  <tbody>\n",
       "    <tr>\n",
       "      <th>0</th>\n",
       "      <td>4-Jul-2014</td>\n",
       "      <td>East</td>\n",
       "      <td>Richard</td>\n",
       "      <td>Pen Set</td>\n",
       "      <td>62</td>\n",
       "      <td>4.99</td>\n",
       "    </tr>\n",
       "    <tr>\n",
       "      <th>1</th>\n",
       "      <td>12-Jul-2014</td>\n",
       "      <td>East</td>\n",
       "      <td>Nick</td>\n",
       "      <td>Binder</td>\n",
       "      <td>29</td>\n",
       "      <td>1.99</td>\n",
       "    </tr>\n",
       "    <tr>\n",
       "      <th>2</th>\n",
       "      <td>21-Jul-2014</td>\n",
       "      <td>Central</td>\n",
       "      <td>Morgan</td>\n",
       "      <td>Pen Set</td>\n",
       "      <td>55</td>\n",
       "      <td>12.49</td>\n",
       "    </tr>\n",
       "    <tr>\n",
       "      <th>3</th>\n",
       "      <td>29-Jul-2014</td>\n",
       "      <td>East</td>\n",
       "      <td>Susan</td>\n",
       "      <td>Binder</td>\n",
       "      <td>81</td>\n",
       "      <td>19.99</td>\n",
       "    </tr>\n",
       "    <tr>\n",
       "      <th>4</th>\n",
       "      <td>7-Aug-2014</td>\n",
       "      <td>Central</td>\n",
       "      <td>Matthew</td>\n",
       "      <td>Pen Set</td>\n",
       "      <td>42</td>\n",
       "      <td>23.95</td>\n",
       "    </tr>\n",
       "    <tr>\n",
       "      <th>5</th>\n",
       "      <td>15-Aug-2014</td>\n",
       "      <td>East</td>\n",
       "      <td>Richard</td>\n",
       "      <td>Pencil</td>\n",
       "      <td>35</td>\n",
       "      <td>4.99</td>\n",
       "    </tr>\n",
       "    <tr>\n",
       "      <th>6</th>\n",
       "      <td>24-Aug-2014</td>\n",
       "      <td>West</td>\n",
       "      <td>James</td>\n",
       "      <td>Desk</td>\n",
       "      <td>3</td>\n",
       "      <td>275.00</td>\n",
       "    </tr>\n",
       "    <tr>\n",
       "      <th>7</th>\n",
       "      <td>1-Sep-2014</td>\n",
       "      <td>Central</td>\n",
       "      <td>Smith</td>\n",
       "      <td>Desk</td>\n",
       "      <td>2</td>\n",
       "      <td>125.00</td>\n",
       "    </tr>\n",
       "    <tr>\n",
       "      <th>8</th>\n",
       "      <td>10-Sep-2014</td>\n",
       "      <td>Central</td>\n",
       "      <td>Bill</td>\n",
       "      <td>Pencil</td>\n",
       "      <td>7</td>\n",
       "      <td>1.29</td>\n",
       "    </tr>\n",
       "    <tr>\n",
       "      <th>9</th>\n",
       "      <td>18-Sep-2014</td>\n",
       "      <td>East</td>\n",
       "      <td>Richard</td>\n",
       "      <td>Pen Set</td>\n",
       "      <td>16</td>\n",
       "      <td>15.99</td>\n",
       "    </tr>\n",
       "  </tbody>\n",
       "</table>\n",
       "</div>"
      ],
      "text/plain": [
       "     OrderDate   Region      Rep     Item  Units  Unit Price\n",
       "0   4-Jul-2014     East  Richard  Pen Set     62        4.99\n",
       "1  12-Jul-2014     East     Nick   Binder     29        1.99\n",
       "2  21-Jul-2014  Central   Morgan  Pen Set     55       12.49\n",
       "3  29-Jul-2014     East    Susan   Binder     81       19.99\n",
       "4   7-Aug-2014  Central  Matthew  Pen Set     42       23.95\n",
       "5  15-Aug-2014     East  Richard   Pencil     35        4.99\n",
       "6  24-Aug-2014     West    James     Desk      3      275.00\n",
       "7   1-Sep-2014  Central    Smith     Desk      2      125.00\n",
       "8  10-Sep-2014  Central     Bill   Pencil      7        1.29\n",
       "9  18-Sep-2014     East  Richard  Pen Set     16       15.99"
      ]
     },
     "execution_count": 29,
     "metadata": {},
     "output_type": "execute_result"
    }
   ],
   "source": [
    "print(\"3. Menampilkan 10 Baris Pertama\")\n",
    "df.head(10)"
   ]
  },
  {
   "cell_type": "code",
   "execution_count": 30,
   "id": "f7cb36c8",
   "metadata": {},
   "outputs": [
    {
     "name": "stdout",
     "output_type": "stream",
     "text": [
      "4. Menampilkan 10 Baris terakhir\n"
     ]
    },
    {
     "data": {
      "text/html": [
       "<div>\n",
       "<style scoped>\n",
       "    .dataframe tbody tr th:only-of-type {\n",
       "        vertical-align: middle;\n",
       "    }\n",
       "\n",
       "    .dataframe tbody tr th {\n",
       "        vertical-align: top;\n",
       "    }\n",
       "\n",
       "    .dataframe thead th {\n",
       "        text-align: right;\n",
       "    }\n",
       "</style>\n",
       "<table border=\"1\" class=\"dataframe\">\n",
       "  <thead>\n",
       "    <tr style=\"text-align: right;\">\n",
       "      <th></th>\n",
       "      <th>OrderDate</th>\n",
       "      <th>Region</th>\n",
       "      <th>Rep</th>\n",
       "      <th>Item</th>\n",
       "      <th>Units</th>\n",
       "      <th>Unit Price</th>\n",
       "    </tr>\n",
       "  </thead>\n",
       "  <tbody>\n",
       "    <tr>\n",
       "      <th>33</th>\n",
       "      <td>10-Apr-2015</td>\n",
       "      <td>Central</td>\n",
       "      <td>Rachel</td>\n",
       "      <td>Pencil</td>\n",
       "      <td>66</td>\n",
       "      <td>1.99</td>\n",
       "    </tr>\n",
       "    <tr>\n",
       "      <th>34</th>\n",
       "      <td>18-Apr-2015</td>\n",
       "      <td>Central</td>\n",
       "      <td>Rachel</td>\n",
       "      <td>Pencil</td>\n",
       "      <td>75</td>\n",
       "      <td>1.99</td>\n",
       "    </tr>\n",
       "    <tr>\n",
       "      <th>35</th>\n",
       "      <td>27-Apr-2015</td>\n",
       "      <td>East</td>\n",
       "      <td>Nick</td>\n",
       "      <td>Pen</td>\n",
       "      <td>96</td>\n",
       "      <td>4.99</td>\n",
       "    </tr>\n",
       "    <tr>\n",
       "      <th>36</th>\n",
       "      <td>5-May-2015</td>\n",
       "      <td>Central</td>\n",
       "      <td>Alex</td>\n",
       "      <td>Pencil</td>\n",
       "      <td>90</td>\n",
       "      <td>4.99</td>\n",
       "    </tr>\n",
       "    <tr>\n",
       "      <th>37</th>\n",
       "      <td>14-May-2015</td>\n",
       "      <td>Central</td>\n",
       "      <td>Bill</td>\n",
       "      <td>Pencil</td>\n",
       "      <td>53</td>\n",
       "      <td>1.29</td>\n",
       "    </tr>\n",
       "    <tr>\n",
       "      <th>38</th>\n",
       "      <td>22-May-2015</td>\n",
       "      <td>West</td>\n",
       "      <td>Thomas</td>\n",
       "      <td>Pencil</td>\n",
       "      <td>32</td>\n",
       "      <td>1.99</td>\n",
       "    </tr>\n",
       "    <tr>\n",
       "      <th>39</th>\n",
       "      <td>31-May-2015</td>\n",
       "      <td>Central</td>\n",
       "      <td>Bill</td>\n",
       "      <td>Binder</td>\n",
       "      <td>80</td>\n",
       "      <td>8.99</td>\n",
       "    </tr>\n",
       "    <tr>\n",
       "      <th>40</th>\n",
       "      <td>8-Jun-2015</td>\n",
       "      <td>East</td>\n",
       "      <td>Richard</td>\n",
       "      <td>Binder</td>\n",
       "      <td>60</td>\n",
       "      <td>8.99</td>\n",
       "    </tr>\n",
       "    <tr>\n",
       "      <th>41</th>\n",
       "      <td>17-Jun-2015</td>\n",
       "      <td>Central</td>\n",
       "      <td>Matthew</td>\n",
       "      <td>Desk</td>\n",
       "      <td>5</td>\n",
       "      <td>125.00</td>\n",
       "    </tr>\n",
       "    <tr>\n",
       "      <th>42</th>\n",
       "      <td>25-Jun-2015</td>\n",
       "      <td>Central</td>\n",
       "      <td>Morgan</td>\n",
       "      <td>Pencil</td>\n",
       "      <td>90</td>\n",
       "      <td>4.99</td>\n",
       "    </tr>\n",
       "  </tbody>\n",
       "</table>\n",
       "</div>"
      ],
      "text/plain": [
       "      OrderDate   Region      Rep    Item  Units  Unit Price\n",
       "33  10-Apr-2015  Central   Rachel  Pencil     66        1.99\n",
       "34  18-Apr-2015  Central   Rachel  Pencil     75        1.99\n",
       "35  27-Apr-2015     East     Nick     Pen     96        4.99\n",
       "36   5-May-2015  Central     Alex  Pencil     90        4.99\n",
       "37  14-May-2015  Central     Bill  Pencil     53        1.29\n",
       "38  22-May-2015     West   Thomas  Pencil     32        1.99\n",
       "39  31-May-2015  Central     Bill  Binder     80        8.99\n",
       "40   8-Jun-2015     East  Richard  Binder     60        8.99\n",
       "41  17-Jun-2015  Central  Matthew    Desk      5      125.00\n",
       "42  25-Jun-2015  Central   Morgan  Pencil     90        4.99"
      ]
     },
     "execution_count": 30,
     "metadata": {},
     "output_type": "execute_result"
    }
   ],
   "source": [
    "print(\"4. Menampilkan 10 Baris terakhir\")\n",
    "df.tail(10)"
   ]
  },
  {
   "cell_type": "code",
   "execution_count": 31,
   "id": "d72cfc0d",
   "metadata": {},
   "outputs": [
    {
     "name": "stdout",
     "output_type": "stream",
     "text": [
      "5. Menampilkan data statistik\n",
      "      OrderDate   Region      Rep     Item  Units  Unit Price\n",
      "0    4-Jul-2014     East  Richard  Pen Set     62        4.99\n",
      "1   12-Jul-2014     East     Nick   Binder     29        1.99\n",
      "2   21-Jul-2014  Central   Morgan  Pen Set     55       12.49\n",
      "3   29-Jul-2014     East    Susan   Binder     81       19.99\n",
      "4    7-Aug-2014  Central  Matthew  Pen Set     42       23.95\n",
      "5   15-Aug-2014     East  Richard   Pencil     35        4.99\n",
      "6   24-Aug-2014     West    James     Desk      3      275.00\n",
      "7    1-Sep-2014  Central    Smith     Desk      2      125.00\n",
      "8   10-Sep-2014  Central     Bill   Pencil      7        1.29\n",
      "9   18-Sep-2014     East  Richard  Pen Set     16       15.99\n",
      "10  27-Sep-2014     West    James      Pen     76        1.99\n",
      "11   5-Oct-2014  Central   Morgan   Binder     28        8.99\n",
      "12  14-Oct-2014     West   Thomas   Binder     57       19.99\n",
      "13  22-Oct-2014     East  Richard      Pen     64        8.99\n",
      "14  31-Oct-2014  Central   Rachel   Pencil     14        1.29\n",
      "15   8-Nov-2014     East    Susan      Pen     15       19.99\n",
      "16  17-Nov-2014  Central     Alex   Binder     11        4.99\n",
      "17  25-Nov-2014  Central  Matthew  Pen Set     96        4.99\n",
      "18   4-Dec-2014  Central     Alex   Binder     94       19.99\n",
      "19  12-Dec-2014  Central    Smith   Pencil     67        1.29\n",
      "20  21-Dec-2014  Central   Rachel   Binder     28        4.99\n",
      "21  29-Dec-2014     East    Susan  Pen Set     74       15.99\n",
      "22   6-Jan-2015     East  Richard   Pencil     95        1.99\n",
      "23  15-Jan-2015  Central     Bill   Binder     46        8.99\n",
      "24  23-Jan-2015  Central  Matthew   Binder     50       19.99\n",
      "25   1-Feb-2015  Central    Smith   Binder     87       15.00\n",
      "26   9-Feb-2015  Central     Alex   Pencil     36        4.99\n",
      "27  18-Feb-2015     East  Richard   Binder      4        4.99\n",
      "28  26-Feb-2015  Central     Bill      Pen     27       19.99\n",
      "29   7-Mar-2015     West    James   Binder      7       19.99\n",
      "30  15-Mar-2015     West    James   Pencil     56        2.99\n",
      "31  24-Mar-2015  Central     Alex  Pen Set     50        4.99\n",
      "32   1-Apr-2015     East  Richard   Binder     60        4.99\n",
      "33  10-Apr-2015  Central   Rachel   Pencil     66        1.99\n",
      "34  18-Apr-2015  Central   Rachel   Pencil     75        1.99\n",
      "35  27-Apr-2015     East     Nick      Pen     96        4.99\n",
      "36   5-May-2015  Central     Alex   Pencil     90        4.99\n",
      "37  14-May-2015  Central     Bill   Pencil     53        1.29\n",
      "38  22-May-2015     West   Thomas   Pencil     32        1.99\n",
      "39  31-May-2015  Central     Bill   Binder     80        8.99\n",
      "40   8-Jun-2015     East  Richard   Binder     60        8.99\n",
      "41  17-Jun-2015  Central  Matthew     Desk      5      125.00\n",
      "42  25-Jun-2015  Central   Morgan   Pencil     90        4.99\n"
     ]
    }
   ],
   "source": [
    "print(\"5. Menampilkan data statistik\")\n",
    "df.describe(include='all')\n",
    "print(df)\n"
   ]
  },
  {
   "cell_type": "code",
   "execution_count": 32,
   "id": "afc4d153",
   "metadata": {},
   "outputs": [
    {
     "name": "stdout",
     "output_type": "stream",
     "text": [
      "6. Menampilkan data Penjualan total unit per Region\n",
      "    Region  Units\n",
      "0  Central   1199\n",
      "1     East    691\n",
      "2     West    231\n"
     ]
    }
   ],
   "source": [
    "print(\"6. Menampilkan data Penjualan total unit per Region\")\n",
    "total_region = df.groupby(['Region'])['Units'].sum().reset_index()\n",
    "print(total_region)"
   ]
  },
  {
   "cell_type": "code",
   "execution_count": 33,
   "id": "a5a10866",
   "metadata": {},
   "outputs": [
    {
     "name": "stdout",
     "output_type": "stream",
     "text": [
      "7. Menampilkan data Penjualan total unit per Pegawai\n",
      "        Rep  Units\n",
      "0      Alex    281\n",
      "1      Bill    213\n",
      "2     James    142\n",
      "3   Matthew    193\n",
      "4    Morgan    173\n",
      "5      Nick    125\n",
      "6    Rachel    183\n",
      "7   Richard    396\n",
      "8     Smith    156\n",
      "9     Susan    170\n",
      "10   Thomas     89\n"
     ]
    }
   ],
   "source": [
    "print(\"7. Menampilkan data Penjualan total unit per Pegawai\")\n",
    "unit_pegawai = df.groupby(['Rep'])['Units'].sum().reset_index()\n",
    "print(unit_pegawai)"
   ]
  },
  {
   "cell_type": "code",
   "execution_count": 34,
   "id": "6aa07301",
   "metadata": {},
   "outputs": [
    {
     "name": "stdout",
     "output_type": "stream",
     "text": [
      "8. Menampilkan data Penjualan total unit terbesar per Pegawai\n",
      "        Rep  Units\n",
      "0      Alex     94\n",
      "1      Bill     80\n",
      "2     James     76\n",
      "3   Matthew     96\n",
      "4    Morgan     90\n",
      "5      Nick     96\n",
      "6    Rachel     75\n",
      "7   Richard     95\n",
      "8     Smith     87\n",
      "9     Susan     81\n",
      "10   Thomas     57\n"
     ]
    }
   ],
   "source": [
    "print(\"8. Menampilkan data Penjualan total unit terbesar per Pegawai\")\n",
    "max_pegawai = df.groupby(['Rep'])['Units'].max().reset_index()\n",
    "print(max_pegawai)"
   ]
  },
  {
   "cell_type": "code",
   "execution_count": 35,
   "id": "3f16a255",
   "metadata": {},
   "outputs": [
    {
     "name": "stdout",
     "output_type": "stream",
     "text": [
      "9. Menampilkan data Penjualan total unit per Item\n",
      "      Item  Units\n",
      "0   Binder    722\n",
      "1     Desk     10\n",
      "2      Pen    278\n",
      "3  Pen Set    395\n",
      "4   Pencil    716\n"
     ]
    }
   ],
   "source": [
    "print(\"9. Menampilkan data Penjualan total unit per Item\")\n",
    "item_unit = df.groupby(['Item'])['Units'].sum().reset_index()\n",
    "print(item_unit)"
   ]
  },
  {
   "cell_type": "code",
   "execution_count": 36,
   "id": "6999ee9e",
   "metadata": {},
   "outputs": [
    {
     "name": "stdout",
     "output_type": "stream",
     "text": [
      "10. Tampilkan data penjualan dengan menambahkan judul total harga berdasarkan perkalian Units * Price\n",
      "0      309.38\n",
      "1       57.71\n",
      "2      686.95\n",
      "3     1619.19\n",
      "4     1005.90\n",
      "5      174.65\n",
      "6      825.00\n",
      "7      250.00\n",
      "8        9.03\n",
      "9      255.84\n",
      "10     151.24\n",
      "11     251.72\n",
      "12    1139.43\n",
      "13     575.36\n",
      "14      18.06\n",
      "15     299.85\n",
      "16      54.89\n",
      "17     479.04\n",
      "18    1879.06\n",
      "19      86.43\n",
      "20     139.72\n",
      "21    1183.26\n",
      "22     189.05\n",
      "23     413.54\n",
      "24     999.50\n",
      "25    1305.00\n",
      "26     179.64\n",
      "27      19.96\n",
      "28     539.73\n",
      "29     139.93\n",
      "30     167.44\n",
      "31     249.50\n",
      "32     299.40\n",
      "33     131.34\n",
      "34     149.25\n",
      "35     479.04\n",
      "36     449.10\n",
      "37      68.37\n",
      "38      63.68\n",
      "39     719.20\n",
      "40     539.40\n",
      "41     625.00\n",
      "42     449.10\n",
      "dtype: float64\n"
     ]
    }
   ],
   "source": [
    "print('10. Tampilkan data penjualan dengan menambahkan judul total harga berdasarkan perkalian Units * Price')\n",
    "total_harga = df['Units'] * df['Unit Price']\n",
    "print(total_harga)"
   ]
  },
  {
   "cell_type": "code",
   "execution_count": null,
   "id": "3af79cd1",
   "metadata": {},
   "outputs": [],
   "source": []
  }
 ],
 "metadata": {
  "kernelspec": {
   "display_name": "Python 3",
   "language": "python",
   "name": "python3"
  },
  "language_info": {
   "codemirror_mode": {
    "name": "ipython",
    "version": 3
   },
   "file_extension": ".py",
   "mimetype": "text/x-python",
   "name": "python",
   "nbconvert_exporter": "python",
   "pygments_lexer": "ipython3",
   "version": "3.10.4"
  },
  "vscode": {
   "interpreter": {
    "hash": "50e849a6aa45b2f61989b5014b299edf21d6d6356c22515480683a72bc57b8cd"
   }
  }
 },
 "nbformat": 4,
 "nbformat_minor": 5
}
